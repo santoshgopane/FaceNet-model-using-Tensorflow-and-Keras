{
 "cells": [
  {
   "cell_type": "markdown",
   "metadata": {},
   "source": [
    "### Face Detection from local Image"
   ]
  },
  {
   "cell_type": "code",
   "execution_count": 1,
   "metadata": {},
   "outputs": [
    {
     "name": "stderr",
     "output_type": "stream",
     "text": [
      "Using TensorFlow backend.\n",
      "C:\\Users\\win10\\anaconda3\\envs\\deep_learning\\lib\\site-packages\\tensorflow\\python\\framework\\dtypes.py:458: FutureWarning: Passing (type, 1) or '1type' as a synonym of type is deprecated; in a future version of numpy, it will be understood as (type, (1,)) / '(1,)type'.\n",
      "  _np_qint8 = np.dtype([(\"qint8\", np.int8, 1)])\n",
      "C:\\Users\\win10\\anaconda3\\envs\\deep_learning\\lib\\site-packages\\tensorflow\\python\\framework\\dtypes.py:459: FutureWarning: Passing (type, 1) or '1type' as a synonym of type is deprecated; in a future version of numpy, it will be understood as (type, (1,)) / '(1,)type'.\n",
      "  _np_quint8 = np.dtype([(\"quint8\", np.uint8, 1)])\n",
      "C:\\Users\\win10\\anaconda3\\envs\\deep_learning\\lib\\site-packages\\tensorflow\\python\\framework\\dtypes.py:460: FutureWarning: Passing (type, 1) or '1type' as a synonym of type is deprecated; in a future version of numpy, it will be understood as (type, (1,)) / '(1,)type'.\n",
      "  _np_qint16 = np.dtype([(\"qint16\", np.int16, 1)])\n",
      "C:\\Users\\win10\\anaconda3\\envs\\deep_learning\\lib\\site-packages\\tensorflow\\python\\framework\\dtypes.py:461: FutureWarning: Passing (type, 1) or '1type' as a synonym of type is deprecated; in a future version of numpy, it will be understood as (type, (1,)) / '(1,)type'.\n",
      "  _np_quint16 = np.dtype([(\"quint16\", np.uint16, 1)])\n",
      "C:\\Users\\win10\\anaconda3\\envs\\deep_learning\\lib\\site-packages\\tensorflow\\python\\framework\\dtypes.py:462: FutureWarning: Passing (type, 1) or '1type' as a synonym of type is deprecated; in a future version of numpy, it will be understood as (type, (1,)) / '(1,)type'.\n",
      "  _np_qint32 = np.dtype([(\"qint32\", np.int32, 1)])\n",
      "C:\\Users\\win10\\anaconda3\\envs\\deep_learning\\lib\\site-packages\\tensorflow\\python\\framework\\dtypes.py:465: FutureWarning: Passing (type, 1) or '1type' as a synonym of type is deprecated; in a future version of numpy, it will be understood as (type, (1,)) / '(1,)type'.\n",
      "  np_resource = np.dtype([(\"resource\", np.ubyte, 1)])\n"
     ]
    }
   ],
   "source": [
    "import cv2\n",
    "from mtcnn import MTCNN\n",
    "from PIL import Image\n",
    "image = cv2.imread('images/Santosh/santosh1.jpg')\n",
    "cv2.imshow('Display',image)\n",
    "cv2.waitKey(0)\n",
    "cv2.destroyAllWindows()"
   ]
  },
  {
   "cell_type": "code",
   "execution_count": 2,
   "metadata": {},
   "outputs": [],
   "source": [
    "image_new = image.copy()\n",
    "cv2.imshow('Display',image_new)\n",
    "cv2.waitKey(0)\n",
    "cv2.destroyAllWindows()"
   ]
  },
  {
   "cell_type": "code",
   "execution_count": 4,
   "metadata": {},
   "outputs": [],
   "source": [
    "detector = MTCNN()"
   ]
  },
  {
   "cell_type": "code",
   "execution_count": 5,
   "metadata": {},
   "outputs": [
    {
     "data": {
      "text/plain": [
       "[{'box': [693, 216, 326, 395],\n",
       "  'confidence': 0.999758780002594,\n",
       "  'keypoints': {'left_eye': (777, 382),\n",
       "   'right_eye': (927, 362),\n",
       "   'nose': (855, 442),\n",
       "   'mouth_left': (796, 519),\n",
       "   'mouth_right': (943, 504)}},\n",
       " {'box': [289, 1073, 76, 94],\n",
       "  'confidence': 0.9990147352218628,\n",
       "  'keypoints': {'left_eye': (324, 1106),\n",
       "   'right_eye': (355, 1107),\n",
       "   'nose': (348, 1129),\n",
       "   'mouth_left': (324, 1147),\n",
       "   'mouth_right': (348, 1148)}}]"
      ]
     },
     "execution_count": 5,
     "metadata": {},
     "output_type": "execute_result"
    }
   ],
   "source": [
    "result = detector.detect_faces(image)\n",
    "result"
   ]
  },
  {
   "cell_type": "code",
   "execution_count": 6,
   "metadata": {},
   "outputs": [
    {
     "data": {
      "text/plain": [
       "[693, 216, 326, 395]"
      ]
     },
     "execution_count": 6,
     "metadata": {},
     "output_type": "execute_result"
    }
   ],
   "source": [
    "bounding_box = result[0]['box']\n",
    "bounding_box"
   ]
  },
  {
   "cell_type": "code",
   "execution_count": 7,
   "metadata": {},
   "outputs": [],
   "source": [
    "cv2.rectangle(image_new,(bounding_box[0],bounding_box[1]),\n",
    "              (bounding_box[0]+bounding_box[2],bounding_box[1]+bounding_box[3]),\n",
    "             (255,0,0),2)\n",
    "# cv2.imwrite('bounded_image.jpeg',image_new)\n",
    "cv2.imshow('Disp',image_new)\n",
    "cv2.waitKey(0)\n",
    "cv2.destroyAllWindows()"
   ]
  },
  {
   "cell_type": "markdown",
   "metadata": {},
   "source": [
    "### Face Recognition from Webcam"
   ]
  },
  {
   "cell_type": "code",
   "execution_count": 8,
   "metadata": {},
   "outputs": [],
   "source": [
    "cap = cv2.VideoCapture(0)\n",
    "detector1 = MTCNN()"
   ]
  },
  {
   "cell_type": "code",
   "execution_count": 18,
   "metadata": {},
   "outputs": [
    {
     "name": "stdout",
     "output_type": "stream",
     "text": [
      "[{'box': [262, 201, 126, 154], 'confidence': 0.994928240776062, 'keypoints': {'left_eye': (296, 258), 'right_eye': (354, 256), 'nose': (324, 292), 'mouth_left': (303, 322), 'mouth_right': (351, 319)}}]\n",
      "[{'box': [267, 202, 116, 146], 'confidence': 0.9938680529594421, 'keypoints': {'left_eye': (296, 253), 'right_eye': (353, 249), 'nose': (324, 280), 'mouth_left': (299, 311), 'mouth_right': (351, 308)}}]\n",
      "[{'box': [267, 194, 117, 150], 'confidence': 0.9897019863128662, 'keypoints': {'left_eye': (297, 247), 'right_eye': (353, 242), 'nose': (325, 274), 'mouth_left': (301, 306), 'mouth_right': (352, 301)}}]\n",
      "[{'box': [272, 201, 115, 142], 'confidence': 0.999437153339386, 'keypoints': {'left_eye': (302, 247), 'right_eye': (357, 245), 'nose': (331, 276), 'mouth_left': (305, 304), 'mouth_right': (354, 305)}}]\n",
      "[{'box': [271, 190, 117, 146], 'confidence': 0.9932997226715088, 'keypoints': {'left_eye': (302, 245), 'right_eye': (356, 247), 'nose': (326, 276), 'mouth_left': (301, 303), 'mouth_right': (349, 304)}}, {'box': [364, 181, 44, 66], 'confidence': 0.8382658958435059, 'keypoints': {'left_eye': (379, 206), 'right_eye': (397, 202), 'nose': (393, 219), 'mouth_left': (385, 233), 'mouth_right': (400, 231)}}]\n",
      "[{'box': [274, 191, 116, 145], 'confidence': 0.9898518919944763, 'keypoints': {'left_eye': (302, 242), 'right_eye': (355, 246), 'nose': (326, 278), 'mouth_left': (302, 304), 'mouth_right': (349, 307)}}]\n",
      "[{'box': [274, 196, 115, 143], 'confidence': 0.9990367889404297, 'keypoints': {'left_eye': (303, 248), 'right_eye': (358, 246), 'nose': (328, 276), 'mouth_left': (305, 306), 'mouth_right': (355, 305)}}]\n",
      "[{'box': [274, 197, 114, 143], 'confidence': 0.9976522326469421, 'keypoints': {'left_eye': (303, 249), 'right_eye': (358, 247), 'nose': (329, 277), 'mouth_left': (306, 306), 'mouth_right': (355, 305)}}, {'box': [351, 376, 33, 39], 'confidence': 0.7557717561721802, 'keypoints': {'left_eye': (363, 391), 'right_eye': (375, 388), 'nose': (370, 399), 'mouth_left': (366, 404), 'mouth_right': (375, 402)}}]\n",
      "[{'box': [272, 201, 112, 140], 'confidence': 0.9988677501678467, 'keypoints': {'left_eye': (303, 249), 'right_eye': (356, 247), 'nose': (330, 278), 'mouth_left': (305, 306), 'mouth_right': (354, 305)}}]\n",
      "[{'box': [272, 199, 111, 138], 'confidence': 0.9980554580688477, 'keypoints': {'left_eye': (303, 249), 'right_eye': (356, 247), 'nose': (330, 276), 'mouth_left': (304, 304), 'mouth_right': (354, 302)}}]\n",
      "[{'box': [275, 195, 113, 143], 'confidence': 0.9934294819831848, 'keypoints': {'left_eye': (308, 247), 'right_eye': (360, 247), 'nose': (333, 275), 'mouth_left': (310, 304), 'mouth_right': (355, 304)}}]\n",
      "[{'box': [273, 192, 117, 146], 'confidence': 0.994113028049469, 'keypoints': {'left_eye': (305, 246), 'right_eye': (361, 245), 'nose': (332, 274), 'mouth_left': (306, 303), 'mouth_right': (355, 303)}}]\n",
      "[{'box': [274, 195, 115, 141], 'confidence': 0.9996305704116821, 'keypoints': {'left_eye': (303, 247), 'right_eye': (358, 244), 'nose': (330, 275), 'mouth_left': (306, 304), 'mouth_right': (356, 302)}}]\n",
      "[{'box': [274, 193, 114, 144], 'confidence': 0.9978049397468567, 'keypoints': {'left_eye': (305, 246), 'right_eye': (359, 247), 'nose': (331, 276), 'mouth_left': (304, 303), 'mouth_right': (356, 304)}}]\n",
      "[{'box': [273, 193, 117, 145], 'confidence': 0.9981270432472229, 'keypoints': {'left_eye': (304, 246), 'right_eye': (360, 246), 'nose': (331, 276), 'mouth_left': (304, 302), 'mouth_right': (357, 304)}}]\n",
      "[{'box': [271, 196, 119, 144], 'confidence': 0.999424934387207, 'keypoints': {'left_eye': (304, 247), 'right_eye': (360, 246), 'nose': (333, 274), 'mouth_left': (303, 302), 'mouth_right': (358, 301)}}]\n",
      "[{'box': [277, 183, 124, 159], 'confidence': 0.9995951056480408, 'keypoints': {'left_eye': (314, 240), 'right_eye': (372, 248), 'nose': (342, 277), 'mouth_left': (306, 300), 'mouth_right': (363, 308)}}]\n",
      "[{'box': [279, 194, 115, 143], 'confidence': 0.9926630258560181, 'keypoints': {'left_eye': (315, 243), 'right_eye': (369, 248), 'nose': (341, 273), 'mouth_left': (308, 295), 'mouth_right': (361, 302)}}]\n",
      "[{'box': [284, 189, 117, 141], 'confidence': 0.9991859793663025, 'keypoints': {'left_eye': (322, 238), 'right_eye': (375, 245), 'nose': (347, 266), 'mouth_left': (313, 290), 'mouth_right': (364, 297)}}]\n",
      "[{'box': [287, 182, 119, 148], 'confidence': 0.9943946599960327, 'keypoints': {'left_eye': (327, 232), 'right_eye': (380, 242), 'nose': (355, 262), 'mouth_left': (318, 286), 'mouth_right': (369, 296)}}]\n",
      "[{'box': [285, 181, 117, 145], 'confidence': 0.9969092011451721, 'keypoints': {'left_eye': (332, 231), 'right_eye': (383, 238), 'nose': (362, 258), 'mouth_left': (325, 284), 'mouth_right': (374, 292)}}]\n",
      "[{'box': [289, 175, 121, 152], 'confidence': 0.9964677095413208, 'keypoints': {'left_eye': (332, 225), 'right_eye': (387, 238), 'nose': (359, 256), 'mouth_left': (319, 283), 'mouth_right': (371, 295)}}]\n",
      "[{'box': [294, 176, 118, 150], 'confidence': 0.9946958422660828, 'keypoints': {'left_eye': (335, 224), 'right_eye': (389, 238), 'nose': (361, 255), 'mouth_left': (321, 280), 'mouth_right': (373, 294)}}]\n",
      "[{'box': [289, 173, 118, 146], 'confidence': 0.9985746145248413, 'keypoints': {'left_eye': (337, 225), 'right_eye': (386, 236), 'nose': (367, 250), 'mouth_left': (328, 275), 'mouth_right': (375, 285)}}]\n",
      "[{'box': [286, 179, 119, 149], 'confidence': 0.9995042085647583, 'keypoints': {'left_eye': (338, 228), 'right_eye': (388, 239), 'nose': (368, 255), 'mouth_left': (326, 282), 'mouth_right': (374, 294)}}]\n",
      "[{'box': [281, 185, 121, 161], 'confidence': 0.9966765642166138, 'keypoints': {'left_eye': (323, 234), 'right_eye': (381, 234), 'nose': (360, 270), 'mouth_left': (329, 306), 'mouth_right': (375, 307)}}]\n",
      "[{'box': [278, 178, 123, 157], 'confidence': 0.9846354722976685, 'keypoints': {'left_eye': (322, 234), 'right_eye': (378, 243), 'nose': (354, 262), 'mouth_left': (318, 291), 'mouth_right': (367, 300)}}]\n",
      "[{'box': [291, 191, 113, 149], 'confidence': 0.9805141091346741, 'keypoints': {'left_eye': (336, 244), 'right_eye': (387, 250), 'nose': (368, 276), 'mouth_left': (332, 303), 'mouth_right': (376, 310)}}]\n",
      "[{'box': [284, 194, 120, 157], 'confidence': 0.9970278143882751, 'keypoints': {'left_eye': (337, 244), 'right_eye': (390, 251), 'nose': (373, 279), 'mouth_left': (330, 308), 'mouth_right': (377, 315)}}]\n",
      "[{'box': [288, 177, 121, 155], 'confidence': 0.9877281188964844, 'keypoints': {'left_eye': (348, 228), 'right_eye': (393, 249), 'nose': (375, 267), 'mouth_left': (329, 279), 'mouth_right': (370, 298)}}]\n",
      "[{'box': [281, 188, 121, 151], 'confidence': 0.9990678429603577, 'keypoints': {'left_eye': (323, 241), 'right_eye': (379, 249), 'nose': (354, 273), 'mouth_left': (317, 297), 'mouth_right': (369, 305)}}]\n",
      "[{'box': [288, 182, 114, 147], 'confidence': 0.9992803931236267, 'keypoints': {'left_eye': (336, 239), 'right_eye': (383, 250), 'nose': (365, 271), 'mouth_left': (327, 289), 'mouth_right': (370, 300)}}]\n",
      "[{'box': [280, 185, 122, 156], 'confidence': 0.9948042035102844, 'keypoints': {'left_eye': (322, 239), 'right_eye': (378, 247), 'nose': (353, 272), 'mouth_left': (316, 297), 'mouth_right': (368, 306)}}]\n",
      "[{'box': [279, 187, 121, 150], 'confidence': 0.9991686344146729, 'keypoints': {'left_eye': (321, 241), 'right_eye': (376, 248), 'nose': (352, 272), 'mouth_left': (316, 296), 'mouth_right': (367, 304)}}]\n",
      "[{'box': [278, 185, 121, 152], 'confidence': 0.9995083808898926, 'keypoints': {'left_eye': (319, 241), 'right_eye': (374, 248), 'nose': (351, 272), 'mouth_left': (315, 297), 'mouth_right': (366, 305)}}]\n",
      "[{'box': [280, 188, 119, 146], 'confidence': 0.999758780002594, 'keypoints': {'left_eye': (322, 241), 'right_eye': (376, 249), 'nose': (352, 272), 'mouth_left': (316, 295), 'mouth_right': (366, 304)}}]\n",
      "[{'box': [279, 183, 121, 152], 'confidence': 0.9987921118736267, 'keypoints': {'left_eye': (328, 236), 'right_eye': (380, 247), 'nose': (359, 269), 'mouth_left': (317, 290), 'mouth_right': (368, 303)}}]\n",
      "[{'box': [278, 184, 119, 149], 'confidence': 0.9943317174911499, 'keypoints': {'left_eye': (320, 237), 'right_eye': (375, 244), 'nose': (349, 267), 'mouth_left': (312, 292), 'mouth_right': (363, 301)}}]\n",
      "[{'box': [276, 180, 120, 149], 'confidence': 0.9981826543807983, 'keypoints': {'left_eye': (313, 234), 'right_eye': (368, 241), 'nose': (342, 264), 'mouth_left': (309, 289), 'mouth_right': (360, 297)}}]\n",
      "[{'box': [280, 183, 117, 147], 'confidence': 0.996857762336731, 'keypoints': {'left_eye': (320, 235), 'right_eye': (372, 243), 'nose': (347, 265), 'mouth_left': (313, 290), 'mouth_right': (362, 298)}}]\n"
     ]
    },
    {
     "name": "stdout",
     "output_type": "stream",
     "text": [
      "[{'box': [283, 179, 117, 147], 'confidence': 0.9990794658660889, 'keypoints': {'left_eye': (322, 228), 'right_eye': (376, 240), 'nose': (349, 261), 'mouth_left': (313, 286), 'mouth_right': (362, 297)}}]\n",
      "[{'box': [282, 180, 117, 148], 'confidence': 0.9984315037727356, 'keypoints': {'left_eye': (321, 231), 'right_eye': (376, 242), 'nose': (350, 263), 'mouth_left': (313, 288), 'mouth_right': (361, 298)}}]\n",
      "[{'box': [278, 181, 119, 150], 'confidence': 0.9976533055305481, 'keypoints': {'left_eye': (317, 234), 'right_eye': (371, 241), 'nose': (345, 263), 'mouth_left': (312, 291), 'mouth_right': (362, 298)}}]\n",
      "[{'box': [280, 185, 117, 148], 'confidence': 0.9982274174690247, 'keypoints': {'left_eye': (319, 236), 'right_eye': (372, 244), 'nose': (347, 265), 'mouth_left': (312, 293), 'mouth_right': (363, 299)}}]\n",
      "[{'box': [283, 183, 115, 145], 'confidence': 0.9993194341659546, 'keypoints': {'left_eye': (322, 233), 'right_eye': (374, 243), 'nose': (350, 265), 'mouth_left': (314, 290), 'mouth_right': (362, 299)}}, {'box': [393, 204, 17, 25], 'confidence': 0.7345744967460632, 'keypoints': {'left_eye': (399, 211), 'right_eye': (407, 210), 'nose': (404, 218), 'mouth_left': (400, 224), 'mouth_right': (406, 223)}}]\n",
      "[{'box': [280, 183, 117, 151], 'confidence': 0.9881812334060669, 'keypoints': {'left_eye': (320, 237), 'right_eye': (373, 242), 'nose': (349, 266), 'mouth_left': (318, 295), 'mouth_right': (363, 300)}}]\n",
      "[{'box': [278, 186, 117, 145], 'confidence': 0.9949873685836792, 'keypoints': {'left_eye': (316, 238), 'right_eye': (369, 241), 'nose': (347, 265), 'mouth_left': (318, 297), 'mouth_right': (363, 298)}}]\n",
      "[{'box': [275, 182, 120, 147], 'confidence': 0.9945250749588013, 'keypoints': {'left_eye': (310, 231), 'right_eye': (366, 239), 'nose': (337, 267), 'mouth_left': (305, 290), 'mouth_right': (356, 297)}}]\n",
      "[{'box': [276, 184, 118, 148], 'confidence': 0.9942843317985535, 'keypoints': {'left_eye': (310, 237), 'right_eye': (367, 241), 'nose': (339, 266), 'mouth_left': (307, 294), 'mouth_right': (360, 298)}}]\n",
      "[{'box': [273, 181, 123, 153], 'confidence': 0.9964368343353271, 'keypoints': {'left_eye': (310, 235), 'right_eye': (369, 240), 'nose': (340, 266), 'mouth_left': (306, 294), 'mouth_right': (360, 299)}}]\n",
      "[{'box': [276, 183, 120, 150], 'confidence': 0.9984979629516602, 'keypoints': {'left_eye': (313, 235), 'right_eye': (369, 241), 'nose': (341, 265), 'mouth_left': (308, 293), 'mouth_right': (360, 299)}}]\n",
      "[{'box': [273, 179, 118, 146], 'confidence': 0.999243974685669, 'keypoints': {'left_eye': (311, 233), 'right_eye': (365, 237), 'nose': (340, 261), 'mouth_left': (309, 288), 'mouth_right': (358, 293)}}]\n",
      "[{'box': [272, 177, 120, 151], 'confidence': 0.9989092350006104, 'keypoints': {'left_eye': (315, 230), 'right_eye': (371, 236), 'nose': (347, 260), 'mouth_left': (312, 287), 'mouth_right': (362, 292)}}]\n",
      "[{'box': [275, 182, 116, 146], 'confidence': 0.9992707371711731, 'keypoints': {'left_eye': (312, 234), 'right_eye': (365, 239), 'nose': (340, 263), 'mouth_left': (309, 290), 'mouth_right': (358, 295)}}]\n",
      "[{'box': [274, 183, 120, 148], 'confidence': 0.998965859413147, 'keypoints': {'left_eye': (318, 234), 'right_eye': (371, 241), 'nose': (348, 264), 'mouth_left': (312, 289), 'mouth_right': (363, 297)}}]\n",
      "[{'box': [277, 181, 121, 150], 'confidence': 0.9994484782218933, 'keypoints': {'left_eye': (317, 234), 'right_eye': (373, 244), 'nose': (346, 265), 'mouth_left': (311, 291), 'mouth_right': (362, 301)}}]\n",
      "[{'box': [278, 181, 120, 149], 'confidence': 0.999758780002594, 'keypoints': {'left_eye': (319, 234), 'right_eye': (373, 243), 'nose': (347, 264), 'mouth_left': (314, 290), 'mouth_right': (363, 299)}}]\n",
      "[{'box': [279, 182, 119, 149], 'confidence': 0.9990365505218506, 'keypoints': {'left_eye': (318, 234), 'right_eye': (372, 242), 'nose': (347, 265), 'mouth_left': (313, 289), 'mouth_right': (363, 297)}}, {'box': [348, 374, 35, 40], 'confidence': 0.8345768451690674, 'keypoints': {'left_eye': (362, 390), 'right_eye': (374, 388), 'nose': (368, 399), 'mouth_left': (363, 404), 'mouth_right': (372, 403)}}]\n",
      "[{'box': [274, 182, 121, 149], 'confidence': 0.9989901185035706, 'keypoints': {'left_eye': (319, 235), 'right_eye': (372, 246), 'nose': (349, 264), 'mouth_left': (311, 289), 'mouth_right': (361, 298)}}]\n",
      "[{'box': [270, 182, 124, 153], 'confidence': 0.9982783794403076, 'keypoints': {'left_eye': (318, 236), 'right_eye': (373, 246), 'nose': (351, 265), 'mouth_left': (311, 293), 'mouth_right': (362, 301)}}]\n",
      "[{'box': [278, 181, 120, 150], 'confidence': 0.9962510466575623, 'keypoints': {'left_eye': (320, 231), 'right_eye': (374, 242), 'nose': (348, 263), 'mouth_left': (312, 287), 'mouth_right': (359, 298)}}]\n",
      "[{'box': [282, 182, 116, 147], 'confidence': 0.998615026473999, 'keypoints': {'left_eye': (320, 233), 'right_eye': (373, 244), 'nose': (346, 263), 'mouth_left': (311, 288), 'mouth_right': (360, 299)}}]\n",
      "[{'box': [283, 178, 120, 153], 'confidence': 0.9979103207588196, 'keypoints': {'left_eye': (323, 229), 'right_eye': (376, 241), 'nose': (349, 260), 'mouth_left': (313, 286), 'mouth_right': (361, 298)}}]\n",
      "[{'box': [277, 174, 121, 152], 'confidence': 0.9980950951576233, 'keypoints': {'left_eye': (318, 226), 'right_eye': (372, 237), 'nose': (345, 257), 'mouth_left': (310, 283), 'mouth_right': (360, 294)}}]\n",
      "[{'box': [288, 179, 113, 147], 'confidence': 0.9932199120521545, 'keypoints': {'left_eye': (323, 227), 'right_eye': (376, 239), 'nose': (347, 262), 'mouth_left': (315, 286), 'mouth_right': (359, 296)}}]\n",
      "[{'box': [281, 191, 113, 137], 'confidence': 0.999183714389801, 'keypoints': {'left_eye': (318, 240), 'right_eye': (371, 245), 'nose': (347, 269), 'mouth_left': (318, 295), 'mouth_right': (363, 300)}}]\n",
      "[{'box': [304, 197, 92, 124], 'confidence': 0.9942511320114136, 'keypoints': {'left_eye': (334, 242), 'right_eye': (372, 250), 'nose': (353, 274), 'mouth_left': (331, 293), 'mouth_right': (365, 298)}}]\n",
      "[{'box': [282, 194, 116, 143], 'confidence': 0.9964190721511841, 'keypoints': {'left_eye': (320, 244), 'right_eye': (373, 252), 'nose': (346, 279), 'mouth_left': (315, 300), 'mouth_right': (361, 308)}}]\n",
      "[{'box': [290, 183, 115, 149], 'confidence': 0.9938054084777832, 'keypoints': {'left_eye': (329, 238), 'right_eye': (381, 248), 'nose': (353, 273), 'mouth_left': (320, 294), 'mouth_right': (368, 304)}}]\n",
      "[{'box': [281, 186, 117, 146], 'confidence': 0.9928261041641235, 'keypoints': {'left_eye': (319, 238), 'right_eye': (376, 245), 'nose': (349, 270), 'mouth_left': (317, 297), 'mouth_right': (365, 304)}}]\n",
      "[{'box': [282, 198, 99, 123], 'confidence': 0.8936952352523804, 'keypoints': {'left_eye': (314, 242), 'right_eye': (356, 245), 'nose': (332, 264), 'mouth_left': (310, 290), 'mouth_right': (347, 293)}}, {'box': [389, 204, 42, 56], 'confidence': 0.8050782680511475, 'keypoints': {'left_eye': (404, 221), 'right_eye': (423, 216), 'nose': (418, 232), 'mouth_left': (410, 245), 'mouth_right': (425, 243)}}]\n",
      "[{'box': [303, 188, 115, 134], 'confidence': 0.7432903051376343, 'keypoints': {'left_eye': (349, 230), 'right_eye': (392, 234), 'nose': (373, 254), 'mouth_left': (344, 279), 'mouth_right': (380, 283)}}]\n",
      "[]\n",
      "You're out of Frame!\n"
     ]
    }
   ],
   "source": [
    "while True:\n",
    "    success, img = cap.read()\n",
    "#     print(type(img))\n",
    "    result = detector1.detect_faces(img)\n",
    "    print(result)\n",
    "    try:\n",
    "        bounding_box = result[0]['box']\n",
    "        cv2.rectangle(img,(bounding_box[0],bounding_box[1]),\n",
    "                  (bounding_box[0]+bounding_box[2],bounding_box[1]+bounding_box[3]),\n",
    "                 (255,0,0),2)\n",
    "        cv2.imshow('Video',img)\n",
    "        if cv2.waitKey(33) & 0xFF == ord('q'):\n",
    "            break\n",
    "    except:\n",
    "        print(\"You're out of Frame!\")\n",
    "        break\n",
    "cv2.destroyAllWindows()"
   ]
  },
  {
   "cell_type": "code",
   "execution_count": null,
   "metadata": {},
   "outputs": [],
   "source": []
  }
 ],
 "metadata": {
  "kernelspec": {
   "display_name": "Python 3",
   "language": "python",
   "name": "python3"
  },
  "language_info": {
   "codemirror_mode": {
    "name": "ipython",
    "version": 3
   },
   "file_extension": ".py",
   "mimetype": "text/x-python",
   "name": "python",
   "nbconvert_exporter": "python",
   "pygments_lexer": "ipython3",
   "version": "3.6.2"
  }
 },
 "nbformat": 4,
 "nbformat_minor": 4
}
